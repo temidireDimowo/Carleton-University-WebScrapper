{
 "cells": [
  {
   "cell_type": "code",
   "execution_count": 13,
   "metadata": {},
   "outputs": [],
   "source": [
    "from bs4 import BeautifulSoup\n",
    "from selenium import webdriver\n",
    "\n",
    "#Opens the saved HTML file of the cybersecurity lab at carleton university in\n",
    "driver = webdriver.Chrome()\n",
    "with open(\"Carleton Security Research Labs (CCSL+CISL).html\") as fp:\n",
    "    soup = BeautifulSoup(fp)\n",
    "    # Code to find all the names of the students and lecturers in the lab \n",
    "    h7_objects = soup.find_all(\"h7\")\n",
    "    for i in h7_objects:\n",
    "        #Code to switch to a new browser tab \n",
    "        driver.switch_to.new_window('tab')\n",
    "        #Code to search for graduate students on google search engine\n",
    "        driver.get(\"https://www.google.com/search?q=\"+(i.b.string + \" AND Linkedin AND Carleton University\"))\n",
    "\n"
   ]
  },
  {
   "cell_type": "code",
   "execution_count": null,
   "metadata": {},
   "outputs": [],
   "source": []
  }
 ],
 "metadata": {
  "kernelspec": {
   "display_name": "Python 3",
   "language": "python",
   "name": "python3"
  },
  "language_info": {
   "codemirror_mode": {
    "name": "ipython",
    "version": 3
   },
   "file_extension": ".py",
   "mimetype": "text/x-python",
   "name": "python",
   "nbconvert_exporter": "python",
   "pygments_lexer": "ipython3",
   "version": "3.10.7"
  },
  "orig_nbformat": 4
 },
 "nbformat": 4,
 "nbformat_minor": 2
}
